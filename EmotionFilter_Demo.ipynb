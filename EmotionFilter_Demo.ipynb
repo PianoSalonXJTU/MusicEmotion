{
 "cells": [
  {
   "cell_type": "code",
   "execution_count": 1,
   "metadata": {},
   "outputs": [],
   "source": [
    "import numpy as np\n",
    "import librosa as lbrs\n",
    "import joblib\n",
    "import warnings"
   ]
  },
  {
   "cell_type": "code",
   "execution_count": 2,
   "metadata": {},
   "outputs": [],
   "source": [
    "warnings.filterwarnings(\"ignore\")"
   ]
  },
  {
   "cell_type": "markdown",
   "metadata": {},
   "source": [
    "### 调式倾向量度和谱质心"
   ]
  },
  {
   "cell_type": "code",
   "execution_count": 3,
   "metadata": {},
   "outputs": [],
   "source": [
    "def correlation(data, series, bias):\n",
    "    if len(data) != len(series):\n",
    "        raise IndexError('Lengths not equal')\n",
    "    else:\n",
    "        length = len(data)\n",
    "        avg_x = sum(data) / length\n",
    "        avg_y = sum(series) / length\n",
    "        sum_prd_xy = 0\n",
    "        sum_prd_x2 = 0\n",
    "        sum_prd_y2 = 0\n",
    "        for i in range(length):\n",
    "            j = i + bias\n",
    "            if j > length - 1:\n",
    "                j -= length\n",
    "            sum_prd_xy += (data[j] - avg_x) * (series[i] - avg_y)\n",
    "            sum_prd_x2 += (data[j] - avg_x) ** 2\n",
    "            sum_prd_y2 += (series[i] - avg_y) ** 2\n",
    "        ans = sum_prd_xy / np.sqrt(sum_prd_x2 * sum_prd_y2)\n",
    "    return ans"
   ]
  },
  {
   "cell_type": "code",
   "execution_count": 4,
   "metadata": {},
   "outputs": [],
   "source": [
    "def next_max(data, temp, match):\n",
    "    index = list(data).index(max(temp))\n",
    "    match.append(index)\n",
    "    temp.remove(max(temp))"
   ]
  },
  {
   "cell_type": "code",
   "execution_count": 5,
   "metadata": {},
   "outputs": [],
   "source": [
    "def mode_and_centroid(filename):\n",
    "    data, rate = lbrs.load(filename)\n",
    "    n_div = 3\n",
    "    cqt = np.abs(lbrs.cqt(data, sr=rate, n_bins=84*n_div, bins_per_octave=12*n_div))\n",
    "    cqt_data = np.array([cqt[n_div * i] for i in range(84)])\n",
    "    cqt_sum = [sum(cqt_data[i]) for i in range(84)]\n",
    "    cqt_avg = sum([i * cqt_sum[i] for i in range(84)]) / sum(cqt_sum)\n",
    "    octave = ['C', 'C#', 'D', 'Eb', 'E', 'F', 'F#', 'G', 'G#', 'A', 'Bb', 'B']\n",
    "    notes = [octave[i % 12] + str(i // 12) for i in range(84)]\n",
    "    centr = notes[round(cqt_avg)]\n",
    "    length = len(cqt[0])\n",
    "    # 计算每一帧的相同音名的音的振幅总和，结果为总帧数*12的矩阵\n",
    "    cqt_1oct = []\n",
    "    for time in range(length):\n",
    "        cqt_1oct_1frm = np.array([\n",
    "            sum([\n",
    "                cqt_data[loc + 12 * octv][time] for octv in range(7)\n",
    "            ]) for loc in range(12)\n",
    "        ]) # 计算某一帧同音振幅和\n",
    "        cqt_1oct.append(cqt_1oct_1frm)\n",
    "    cqt_1oct = np.array(cqt_1oct)\n",
    "    # 对每一帧进行筛查\n",
    "    # 最少两个音即可嵌入一个确定的音阶\n",
    "    # 到将一整个音阶序列嵌满/无法再嵌入下一个音为止\n",
    "    N_series = [1, 0, 1, 0, 1, 1, 0, 1, 0, 1, 0, 1]\n",
    "    for time in range(length):\n",
    "        data = list(cqt_1oct[time])\n",
    "        temp = list(cqt_1oct[time])\n",
    "        match_list = []\n",
    "        next_max(data, temp, match_list)\n",
    "        next_max(data, temp, match_list)\n",
    "        for n in range(3, 8):\n",
    "            inserted = False\n",
    "            next_max(data, temp, match_list)\n",
    "            for i in range(12):\n",
    "                match_num = sum([N_series[match_list[i]] for i in range(n)])\n",
    "                if match_num == n:\n",
    "                    inserted = True\n",
    "                    tonic_loc = i\n",
    "                    break\n",
    "            if not inserted:\n",
    "                match_list.pop()\n",
    "                break\n",
    "        for i in range(12):\n",
    "            if i not in match_list:\n",
    "                cqt_1oct[time][i] = 0\n",
    "            else:\n",
    "                cqt_1oct[time][i] = 1\n",
    "    # 将所有帧加起来\n",
    "    sum_octave = [\n",
    "        sum([\n",
    "            cqt_1oct[time][loc] for time in range(length)\n",
    "        ]) for loc in range(12)\n",
    "    ]\n",
    "    # 找出主/属音\n",
    "    sum_sorted = sorted(sum_octave, reverse=True)\n",
    "    index0 = sum_octave.index(sum_sorted[0])\n",
    "    index1 = sum_octave.index(sum_sorted[1])\n",
    "    if abs(index0 - index1) == 7:\n",
    "        tonic = min(index0, index1)\n",
    "        domin = max(index0, index1)\n",
    "    elif abs(index0 - index1) == 5:\n",
    "        tonic = max(index0, index1)\n",
    "        domin = min(index0, index1)\n",
    "    else:\n",
    "        index10 = (index0 + 7) % 12\n",
    "        index11 = (index0 + 5) % 12\n",
    "        index1 = (index10, index11)[int(sum_octave[index10] < sum_octave[index11])]\n",
    "        tonic, domin = ((index0, index1), (index1, index0))[int(index1 == index11)]\n",
    "        warnings.warn('Cannot find the most possible dominant, the answer may be inaccurate.', Warning, 2)\n",
    "    # 利用相关系数求最可能调式调性\n",
    "    mode_list = [\n",
    "        'Major',\n",
    "        'minor (Natural)',\n",
    "        'minor (Harmonic)'\n",
    "    ]\n",
    "    scale_list = []\n",
    "    scale_list.append([2, 0, 1, 0, 1.5, 1, 0, 2, 0, 1.5, 0, 0.7])\n",
    "    scale_list.append([2, 0, 1, 1.5, 0, 1, 0, 2, 1.5, 0, 0.7, 0])\n",
    "    scale_list.append([2, 0, 1, 1.5, 0, 1, 0, 2, 1.5, 0, 0, 0.7])\n",
    "    note_list = []\n",
    "    note_list.append(['C', 'Db', 'D', 'Eb', 'E', 'F', 'Gb', 'G', 'Ab', 'A', 'Bb', 'B'])\n",
    "    note_list.append(['C', 'C#', 'D', 'Eb', 'E', 'F', 'F#', 'G', 'G#', 'A', 'Bb', 'B'])\n",
    "    note_list.append(['C', 'C#', 'D', 'Eb', 'E', 'F', 'F#', 'G', 'G#', 'A', 'Bb', 'B'])\n",
    "    prbblty_list = [\n",
    "        [\n",
    "            correlation(sum_octave, scale_list[n], i)\n",
    "            for i in range(12)\n",
    "        ] for n in range(len(mode_list))\n",
    "    ]\n",
    "    max_list = [max(prbblty_list[n]) for n in range(len(mode_list))]\n",
    "    max_mode = max_list.index(max(max_list))\n",
    "    tonic_index = prbblty_list[max_mode].index(max(prbblty_list[max_mode]))\n",
    "    if tonic_index not in [tonic, domin]:\n",
    "        warnings.warn('Cannot judge the most possible tonic, the tonality may be inaccurate.', Warning, 2)\n",
    "    output_list = [\n",
    "        note_list[max_mode][tonic_index] + ' ' + mode_list[max_mode],\n",
    "        max_list[0] - max(max_list[1], max_list[2]),\n",
    "        centr,\n",
    "        cqt_avg\n",
    "    ]\n",
    "    return output_list"
   ]
  },
  {
   "cell_type": "markdown",
   "metadata": {},
   "source": [
    "### 节奏律动"
   ]
  },
  {
   "cell_type": "code",
   "execution_count": 6,
   "metadata": {},
   "outputs": [],
   "source": [
    "def beat_and_tempo(filename):\n",
    "    offset = 0\n",
    "    duration = 100\n",
    "    data, rate = lbrs.load(filename,offset=offset, duration=duration)\n",
    "    onset_env = lbrs.onset.onset_strength(y=data, sr=rate)\n",
    "    tempo = lbrs.beat.tempo(onset_envelope=onset_env, sr=rate)\n",
    "    tempo1, beats = lbrs.beat.beat_track(y=data, sr=rate)\n",
    "    if tempo[0]>135:\n",
    "        tempo[0] = tempo[0]/2\n",
    "    if tempo1 > 135:\n",
    "        tempo1 = tempo1 / 2\n",
    "    tempos = []\n",
    "    tempos.append(tempo)\n",
    "    tempos.append(tempo1)\n",
    "    return tempos[0][0]\n",
    "    # tempos[0]是一个只有一个数据的数组（效果较好）；tempos[1]是一个数据"
   ]
  },
  {
   "cell_type": "markdown",
   "metadata": {},
   "source": [
    "### 神经网络"
   ]
  },
  {
   "cell_type": "code",
   "execution_count": 7,
   "metadata": {},
   "outputs": [],
   "source": [
    "def forest(Mode, Sc, Tempo):\n",
    "    arr = [Mode, Sc, Tempo]\n",
    "    rfl = joblib.load('rfc.pkl')\n",
    "    arr = np.array(arr)\n",
    "    arr = arr.reshape(1, -1)\n",
    "    result = rfl.predict(arr)\n",
    "    return result"
   ]
  },
  {
   "cell_type": "markdown",
   "metadata": {},
   "source": [
    "### 函数调用"
   ]
  },
  {
   "cell_type": "code",
   "execution_count": 8,
   "metadata": {},
   "outputs": [],
   "source": [
    "def is_audio_file(filename):\n",
    "    audio_file_extension = ['.mp3', '.wav', '.flac']\n",
    "    ans = False\n",
    "    for i in range(len(audio_file_extension)):\n",
    "        ans = ans or (audio_file_extension[i] in filename)\n",
    "    return ans"
   ]
  },
  {
   "cell_type": "code",
   "execution_count": 9,
   "metadata": {},
   "outputs": [],
   "source": [
    "def unify(*args):\n",
    "    return np.arctan(args) * 2 / np.pi"
   ]
  },
  {
   "cell_type": "code",
   "execution_count": 10,
   "metadata": {},
   "outputs": [],
   "source": [
    "def EmotionQuadrant(filename):\n",
    "    if not is_audio_file(filename):\n",
    "        warnings.warn('Unsupported file extension', Warning, 2)\n",
    "        return -1\n",
    "    else:\n",
    "        knm, mode, sc_note, sc = mode_and_centroid(filename)\n",
    "        tempo = beat_and_tempo(filename)\n",
    "        mode_n, sc_n, tempo_n = unify(mode, sc, tempo)\n",
    "        quadrant = forest(mode_n, sc_n, tempo_n)[0]\n",
    "        print(\n",
    "            f'调性:\\t\\t{knm}\\n'\n",
    "            f'调式倾向:\\t{mode}\\n'\n",
    "            f'谱质心:\\t\\t{sc_note}, {sc}\\n'\n",
    "            f'节奏律动:\\t{tempo}\\n'\n",
    "            f'情绪象限:\\t{quadrant}'\n",
    "        )\n",
    "        return"
   ]
  },
  {
   "cell_type": "code",
   "execution_count": 13,
   "metadata": {},
   "outputs": [
    {
     "name": "stdout",
     "output_type": "stream",
     "text": [
      "调性:\t\tA minor (Natural)\n",
      "调式倾向:\t-0.16367604898701837\n",
      "谱质心:\t\tG2, 30.802596007390697\n",
      "节奏律动:\t129.19921875\n",
      "情绪象限:\t3\n"
     ]
    }
   ],
   "source": [
    "EmotionQuadrant('Example.wav')"
   ]
  }
 ],
 "metadata": {
  "interpreter": {
   "hash": "aee8b7b246df8f9039afb4144a1f6fd8d2ca17a180786b69acc140d282b71a49"
  },
  "kernelspec": {
   "display_name": "Python 3 (ipykernel)",
   "language": "python",
   "name": "python3"
  },
  "language_info": {
   "codemirror_mode": {
    "name": "ipython",
    "version": 3
   },
   "file_extension": ".py",
   "mimetype": "text/x-python",
   "name": "python",
   "nbconvert_exporter": "python",
   "pygments_lexer": "ipython3",
   "version": "3.10.4"
  }
 },
 "nbformat": 4,
 "nbformat_minor": 4
}
